{
 "cells": [
  {
   "cell_type": "code",
   "execution_count": null,
   "metadata": {},
   "outputs": [],
   "source": [
    "#!/usr/bin/env python\n",
    "# coding: utf-8\n",
    "\n",
    "# In[3]:\n",
    "\n",
    "\n",
    "import cv2\n",
    "import os\n",
    "import numpy as np\n",
    "from PIL import Image\n",
    "import pickle\n",
    "\n",
    "\n",
    "# BASE_DIR = os.path.dirname(os.path.abspath(__file__))#run by terminal\n",
    "BASE_DIR = os.getcwd()\n",
    "image_dir = os.path.join(BASE_DIR, \"data\")\n",
    "\n",
    "face_cascade = cv2.CascadeClassifier('cascades/data/haarcascade_frontalface_alt2.xml')\n",
    "\n",
    "current_id = 0 # id là cái chứa info của ảnh\n",
    "label_ids = {} # Chứa lables và id  \n",
    "y_labels =[] # Chứa id của anh\n",
    "x_train  = []\n",
    "\n",
    "# test_true = \n",
    "for root, dirs, files in os.walk(image_dir):\n",
    "    for file in files:\n",
    "        if file.endswith(\"png\") or file.endswith(\"jpg\"):\n",
    "            path = os.path.join(root, file)\n",
    "            label = os.path.basename(root).lower()\n",
    "            # print(label)\n",
    "            # current_id+=1\n",
    "            # y_labels.append(label) # some number \n",
    "            # x_train.append(path) # verify this images, turn into a NP array, gray images are\n",
    "            # Đưa hình ảnh về màu gray và là mảng np \n",
    "            # print(path)\n",
    "            \n",
    "            if not label in label_ids:\n",
    "                # print(\"Label\")\n",
    "                label_ids[label] = current_id\n",
    "                current_id += 1\n",
    "            id_ = current_id\n",
    "            # print(label_ids)\n",
    "            pil_image = Image.open(path).convert(\"L\")\n",
    "            size = (550, 550)\n",
    "            final_image = pil_image.resize(size, Image.ANTIALIAS)\n",
    "            image_array = np.array(final_image, \"uint8\")\n",
    "            # print(image_array)\n",
    "            faces = face_cascade.detectMultiScale(image_array, scaleFactor=1.5, minNeighbors=5)\n",
    "            # if(len(faces) == 0):\n",
    "            #     test+=1;\n",
    "            \n",
    "            # for(x,y,w,h) in faces:\n",
    "            #     roi = image_array[y:y+h,x:x+w]\n",
    "            #     x_train.append(roi)\n",
    "            #     y_labels.append(id_)\n",
    "\n"
   ]
  },
  {
   "cell_type": "code",
   "execution_count": 40,
   "metadata": {},
   "outputs": [
    {
     "name": "stdout",
     "output_type": "stream",
     "text": [
      "d:\\tuana\\My Folder\\AILearn\\QuangNinh\\GitFaceReconigtion\\Example5\\data\n",
      "d:\\tuana\\My Folder\\AILearn\\QuangNinh\\GitFaceReconigtion\\Example5\\data\\10_PhamMinhThien_10A\n",
      "d:\\tuana\\My Folder\\AILearn\\QuangNinh\\GitFaceReconigtion\\Example5\\data\\12_HoangQuocViet_10A\n",
      "d:\\tuana\\My Folder\\AILearn\\QuangNinh\\GitFaceReconigtion\\Example5\\data\\13_LeHaiYen_10A\n",
      "d:\\tuana\\My Folder\\AILearn\\QuangNinh\\GitFaceReconigtion\\Example5\\data\\14_HaManhVu_10A\n",
      "d:\\tuana\\My Folder\\AILearn\\QuangNinh\\GitFaceReconigtion\\Example5\\data\\1_NguyenVanAnh_10A\n",
      "d:\\tuana\\My Folder\\AILearn\\QuangNinh\\GitFaceReconigtion\\Example5\\data\\1_TranXuanThanh_10B\n",
      "d:\\tuana\\My Folder\\AILearn\\QuangNinh\\GitFaceReconigtion\\Example5\\data\\2_BuiTienDat_10A\n",
      "d:\\tuana\\My Folder\\AILearn\\QuangNinh\\GitFaceReconigtion\\Example5\\data\\3_TranThanhDat_10A\n",
      "d:\\tuana\\My Folder\\AILearn\\QuangNinh\\GitFaceReconigtion\\Example5\\data\\4_PhamThaoNhi_10A\n",
      "d:\\tuana\\My Folder\\AILearn\\QuangNinh\\GitFaceReconigtion\\Example5\\data\\5_TranSyLuong_10A\n",
      "d:\\tuana\\My Folder\\AILearn\\QuangNinh\\GitFaceReconigtion\\Example5\\data\\6_VuDuyHung_10A\n",
      "d:\\tuana\\My Folder\\AILearn\\QuangNinh\\GitFaceReconigtion\\Example5\\data\\7_NgoPhamQuangThai_10A\n",
      "d:\\tuana\\My Folder\\AILearn\\QuangNinh\\GitFaceReconigtion\\Example5\\data\\8_VoMinhTuan_10A\n",
      "d:\\tuana\\My Folder\\AILearn\\QuangNinh\\GitFaceReconigtion\\Example5\\data\\9_NguyenQuangTuan_10A\n",
      "d:\\tuana\\My Folder\\AILearn\\QuangNinh\\GitFaceReconigtion\\Example5\\data\\NDTA\n"
     ]
    }
   ],
   "source": [
    "#!/usr/bin/env python\n",
    "# coding: utf-8\n",
    "\n",
    "# In[3]:\n",
    "\n",
    "\n",
    "import cv2\n",
    "import os\n",
    "import numpy as np\n",
    "from PIL import Image\n",
    "import pickle\n",
    "\n",
    "\n",
    "# BASE_DIR = os.path.dirname(os.path.abspath(__file__))#run by terminal\n",
    "BASE_DIR = os.getcwd()\n",
    "image_dir = os.path.join(BASE_DIR, \"data\")\n",
    "\n",
    "face_cascade = cv2.CascadeClassifier('cascades/data/haarcascade_frontalface_alt2.xml')\n",
    "\n",
    "current_id = 0 # id là cái chứa info của ảnh\n",
    "label_ids = {} # Chứa lables và id  \n",
    "y_labels =[] # Chứa id của anh\n",
    "x_train  = []\n",
    "\n",
    "# test_true = \n",
    "for root, dirs, files in os.walk(image_dir):\n",
    "    print(root)\n",
    "    for file in files:\n",
    "        # print(file)\n",
    "        if file.endswith(\"png\") or file.endswith(\"jpg\"):\n",
    "            path = os.path.join(root, file)\n",
    "            label = os.path.basename(root).lower()\n",
    "            # print(label)\n",
    "            # # print(label_ids)\n",
    "            # pil_image = Image.open(path).convert(\"L\")\n",
    "            # size = (550, 550)\n",
    "            # final_image = pil_image.resize(size, Image.ANTIALIAS)\n",
    "            # image_array = np.array(final_image, \"uint8\")\n",
    "            # print(image_array)\n",
    "            # faces = face_cascade.detectMultiScale(image_array, scaleFactor=1.5, minNeighbors=5)\n",
    "            # print(path)\n",
    "\n",
    "\n"
   ]
  },
  {
   "cell_type": "code",
   "execution_count": 8,
   "metadata": {},
   "outputs": [
    {
     "data": {
      "text/plain": [
       "154"
      ]
     },
     "execution_count": 8,
     "metadata": {},
     "output_type": "execute_result"
    }
   ],
   "source": [
    "current_id"
   ]
  },
  {
   "cell_type": "code",
   "execution_count": 15,
   "metadata": {},
   "outputs": [
    {
     "data": {
      "text/plain": [
       "125"
      ]
     },
     "execution_count": 15,
     "metadata": {},
     "output_type": "execute_result"
    }
   ],
   "source": [
    "#!/usr/bin/env python\n",
    "# coding: utf-8\n",
    "\n",
    "# In[3]:\n",
    "\n",
    "\n",
    "import cv2\n",
    "import os\n",
    "import numpy as np\n",
    "from PIL import Image\n",
    "import pickle\n",
    "\n",
    "\n",
    "# BASE_DIR = os.path.dirname(os.path.abspath(__file__))#run by terminal\n",
    "BASE_DIR = os.getcwd()\n",
    "image_dir = os.path.join(BASE_DIR, \"data\")\n",
    "\n",
    "face_cascade = cv2.CascadeClassifier('cascades/data/haarcascade_frontalface_alt2.xml')\n",
    "\n",
    "current_id = 0 # id là cái chứa info của ảnh\n",
    "label_ids = {} # Chứa lables và id  \n",
    "y_labels =[] # Chứa id của anh\n",
    "x_train  = []\n",
    "\n",
    "# test_true = \n",
    "for root, dirs, files in os.walk(image_dir):\n",
    "    for file in files:\n",
    "        if file.endswith(\"png\") or file.endswith(\"jpg\"):\n",
    "            path = os.path.join(root, file)\n",
    "            label = os.path.basename(root).lower()\n",
    "            # print(label)\n",
    "            # current_id+=1\n",
    "            # y_labels.append(label) # some number \n",
    "            # x_train.append(path) # verify this images, turn into a NP array, gray images are\n",
    "            # Đưa hình ảnh về màu gray và là mảng np \n",
    "            # print(path)\n",
    "            \n",
    "            if not label in label_ids:\n",
    "                # print(\"Label\")\n",
    "                label_ids[label] = current_id\n",
    "                current_id += 1\n",
    "            id_ = current_id\n",
    "            # print(label_ids)\n",
    "            pil_image = Image.open(path).convert(\"L\")\n",
    "            size = (550, 550)\n",
    "            final_image = pil_image.resize(size, Image.ANTIALIAS)\n",
    "            image_array = np.array(final_image, \"uint8\")\n",
    "            # print(image_array)\n",
    "            faces = face_cascade.detectMultiScale(image_array, scaleFactor=1.5, minNeighbors=5)\n",
    "            # if(len(faces) == 0):\n",
    "            #     test+=1;\n",
    "            \n",
    "            # for(x,y,w,h) in faces:\n",
    "            #     roi = image_array[y:y+h,x:x+w]\n",
    "            #     x_train.append(roi)\n",
    "            #     y_labels.append(id_)\n",
    "\n"
   ]
  },
  {
   "cell_type": "code",
   "execution_count": null,
   "metadata": {},
   "outputs": [],
   "source": [
    "label_ids"
   ]
  },
  {
   "cell_type": "code",
   "execution_count": 12,
   "metadata": {},
   "outputs": [
    {
     "data": {
      "text/plain": [
       "29"
      ]
     },
     "execution_count": 12,
     "metadata": {},
     "output_type": "execute_result"
    }
   ],
   "source": [
    "len(y_labels)"
   ]
  },
  {
   "cell_type": "code",
   "execution_count": 24,
   "metadata": {},
   "outputs": [
    {
     "name": "stdout",
     "output_type": "stream",
     "text": [
      "d:\\tuana\\My Folder\\AILearn\\QuangNinh\\GitFaceReconigtion\\Example5\\test\n"
     ]
    }
   ],
   "source": [
    "import os\n",
    "directory = \"test\"\n",
    "dir = os.getcwd()\n",
    "# print(dir/d)\n",
    "path = os.path.join(dir, directory)\n",
    "# os.mkdir(path)\n",
    "print(path)"
   ]
  },
  {
   "cell_type": "code",
   "execution_count": 33,
   "metadata": {},
   "outputs": [
    {
     "name": "stdout",
     "output_type": "stream",
     "text": [
      "['10_PhamMinhThien_10A', '12_HoangQuocViet_10A', '13_LeHaiYen_10A', '14_HaManhVu_10A', '1_NguyenVanAnh_10A', '1_TranXuanThanh_10B', '2_BuiTienDat_10A', '3_TranThanhDat_10A', '4_PhamThaoNhi_10A', '5_TranSyLuong_10A', '6_VuDuyHung_10A', '7_NgoPhamQuangThai_10A', '8_VoMinhTuan_10A', '9_NguyenQuangTuan_10A', 'NDTA']\n"
     ]
    }
   ],
   "source": [
    "dir = os.getcwd()\n",
    "print(os.listdir('data'))\n",
    "list_data = os.listdir('data')\n",
    "for directory in list_data:\n",
    "    path = os.path.join(r'D:\\tuana\\My Folder\\AILearn\\QuangNinh\\GitFaceReconigtion\\Example5\\data false',directory)\n",
    "    os.mkdir(path)"
   ]
  },
  {
   "cell_type": "code",
   "execution_count": null,
   "metadata": {},
   "outputs": [],
   "source": []
  }
 ],
 "metadata": {
  "interpreter": {
   "hash": "4324b6bac74df9d7fa14492ccb753ee082ee92c087965af295806778d6712027"
  },
  "kernelspec": {
   "display_name": "Python 3.8.8 64-bit ('base': conda)",
   "language": "python",
   "name": "python3"
  },
  "language_info": {
   "codemirror_mode": {
    "name": "ipython",
    "version": 3
   },
   "file_extension": ".py",
   "mimetype": "text/x-python",
   "name": "python",
   "nbconvert_exporter": "python",
   "pygments_lexer": "ipython3",
   "version": "3.8.8"
  },
  "orig_nbformat": 4
 },
 "nbformat": 4,
 "nbformat_minor": 2
}
