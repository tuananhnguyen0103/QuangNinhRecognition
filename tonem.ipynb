{
 "cells": [
  {
   "cell_type": "code",
   "execution_count": 18,
   "metadata": {},
   "outputs": [],
   "source": [
    "#!/usr/bin/env python\n",
    "# coding: utf-8\n",
    "\n",
    "# In[3]:\n",
    "\n",
    "\n",
    "import cv2\n",
    "import os\n",
    "import numpy as np\n",
    "from PIL import Image\n",
    "import pickle\n",
    "\n",
    "\n",
    "# BASE_DIR = os.path.dirname(os.path.abspath(__file__))#run by terminal\n",
    "BASE_DIR = os.getcwd()\n",
    "image_dir = os.path.join(BASE_DIR, \"data\")\n",
    "\n",
    "face_cascade = cv2.CascadeClassifier('cascades/data/    _frontalface_alt2.xml')\n",
    "\n",
    "current_id = 0 # id là cái chứa info của ảnh\n",
    "label_ids = {} # Chứa lables và id  \n",
    "y_labels =[] # Chứa id của anh\n",
    "x_train  = []\n",
    "sum_label = 0\n",
    "\n",
    "test =  0\n",
    "for root, dirs, files in os.walk(image_dir):\n",
    "    for file in files:\n",
    "        if file.endswith(\"png\") or file.endswith(\"jpg\"):\n",
    "            path = os.path.join(root, file)\n",
    "            label = os.path.basename(root).lower()\n",
    "            sum_label+=1;\n",
    "            if not label in label_ids:\n",
    "                # print(\"Label\")\n",
    "                label_ids[label] = current_id\n",
    "                current_id += 1\n",
    "            id_ = current_id\n",
    "            # print(label_ids)\n",
    "            pil_image = Image.open(path).convert(\"L\")\n",
    "            size = (550, 550)\n",
    "            final_image = pil_image.resize(size, Image.ANTIALIAS)\n",
    "            image_array = np.array(final_image, \"uint8\")\n",
    "            # Nếu nó crop được thì face len(faces) sẽ khác 0\n",
    "            faces = face_cascade.detectMultiScale(image_array, scaleFactor=1.5, minNeighbors=5)\n",
    "            if(len(faces) == 0):\n",
    "                test+=1;\n",
    "            for(x,y,w,h) in faces:\n",
    "                roi = image_array[y:y+h,x:x+w]\n",
    "                x_train.append(roi)\n",
    "                y_labels.append(id_)\n",
    "\n"
   ]
  },
  {
   "cell_type": "code",
   "execution_count": 19,
   "metadata": {},
   "outputs": [
    {
     "data": {
      "text/plain": [
       "97"
      ]
     },
     "execution_count": 19,
     "metadata": {},
     "output_type": "execute_result"
    }
   ],
   "source": [
    "test"
   ]
  },
  {
   "cell_type": "code",
   "execution_count": 20,
   "metadata": {},
   "outputs": [
    {
     "data": {
      "text/plain": [
       "14"
      ]
     },
     "execution_count": 20,
     "metadata": {},
     "output_type": "execute_result"
    }
   ],
   "source": [
    "current_id"
   ]
  },
  {
   "cell_type": "code",
   "execution_count": 21,
   "metadata": {},
   "outputs": [
    {
     "data": {
      "text/plain": [
       "29"
      ]
     },
     "execution_count": 21,
     "metadata": {},
     "output_type": "execute_result"
    }
   ],
   "source": [
    "len(x_train)"
   ]
  },
  {
   "cell_type": "code",
   "execution_count": 10,
   "metadata": {},
   "outputs": [
    {
     "data": {
      "text/plain": [
       "154"
      ]
     },
     "execution_count": 10,
     "metadata": {},
     "output_type": "execute_result"
    }
   ],
   "source": [
    "sum_label"
   ]
  },
  {
   "cell_type": "code",
   "execution_count": 17,
   "metadata": {},
   "outputs": [
    {
     "name": "stdout",
     "output_type": "stream",
     "text": [
      "1\n",
      "49 231 769 769\n"
     ]
    }
   ],
   "source": [
    "import cv2\n",
    "\n",
    "# Với cảnh VanAnh này thì 2,3,4.jpg sẽ không được - 1.jpg thì sẽ được\n",
    "# \n",
    "path = r'D:\\tuana\\My Folder\\AILearn\\QuangNinh\\GitFaceReconigtion\\Example5\\data\\1_NguyenVanAnh_10A\\1.jpg'\n",
    "frame = cv2.imread(path)\n",
    "frame_resize = cv2.resize(frame,(500,500))\n",
    "gray = cv2.cvtColor(frame_resize, cv2.COLOR_BGR2GRAY)\n",
    "    \n",
    "faces = face_cascade.detectMultiScale(frame, scaleFactor=1.5, minNeighbors=5)\n",
    "print(len(faces))\n",
    "for(x,y,w,h) in faces:\n",
    "    print(x,y,w,h)\n",
    "    roi_gray = gray[y:y+h, x:x+w]\n",
    "    roi_frame = frame[y:y+h, x:x+w]\n",
    "    img_item = \"my_image_2.png\"\n",
    "    img_frame = \"my_frame_2.png\"\n",
    "    cv2.imwrite(img_item,roi_gray)\n",
    "    cv2.imwrite(img_frame,roi_frame)\n",
    "#     # Draw rectangle\n",
    "    \n",
    "    \n",
    "#     color = (255,0,0) #BGR 0-255   \n",
    "#     stroke = 2\n",
    "#     end_cord_x  = x+w\n",
    "#     end_cord_y = y +h\n",
    "#     cv2.rectangle(frame_resize,(x,y),(end_cord_x,end_cord_y),color,stroke)\n",
    "    # Mirror images \n",
    "# flip_img = cv2.flip(frame,1)\n",
    "cv2.imshow('frame',gray)\n",
    "cv2.waitKey()\n",
    "cv2.destroyAllWindows()"
   ]
  }
 ],
 "metadata": {
  "interpreter": {
   "hash": "4324b6bac74df9d7fa14492ccb753ee082ee92c087965af295806778d6712027"
  },
  "kernelspec": {
   "display_name": "Python 3.8.8 64-bit ('base': conda)",
   "language": "python",
   "name": "python3"
  },
  "language_info": {
   "codemirror_mode": {
    "name": "ipython",
    "version": 3
   },
   "file_extension": ".py",
   "mimetype": "text/x-python",
   "name": "python",
   "nbconvert_exporter": "python",
   "pygments_lexer": "ipython3",
   "version": "3.8.8"
  },
  "orig_nbformat": 4
 },
 "nbformat": 4,
 "nbformat_minor": 2
}
